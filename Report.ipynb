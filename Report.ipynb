{
 "cells": [
  {
   "cell_type": "code",
   "execution_count": 2,
   "metadata": {},
   "outputs": [
    {
     "data": {
      "text/html": [
       "<table>\n",
       "<thead>\n",
       "<tr><th style=\"text-align: center;\">                   Feature                   </th><th style=\"text-align: center;\">       Explanation of Feature        </th><th style=\"text-align: center;\">         Value         </th><th style=\"text-align: center;\">                                    Explanation of Value                                     </th></tr>\n",
       "</thead>\n",
       "<tbody>\n",
       "<tr><td style=\"text-align: center;\">                     age                     </td><td style=\"text-align: center;\">            Patient&#x27;s age            </td><td style=\"text-align: center;\">     Numeric Value     </td><td style=\"text-align: center;\">                                                                                             </td></tr>\n",
       "<tr><td style=\"text-align: center;\">                     sex                     </td><td style=\"text-align: center;\">          Patient&#x27;s gender           </td><td style=\"text-align: center;\">Categorical Value (0/1)</td><td style=\"text-align: center;\">                                     0 = Man, 1 = Woman                                      </td></tr>\n",
       "<tr><td style=\"text-align: center;\">                     cp                      </td><td style=\"text-align: center;\">           Chest pain type           </td><td style=\"text-align: center;\">        0,1,2,3        </td><td style=\"text-align: center;\">   0: Typical angina pain 1: Atypical angina pain 2: Non-anginal pain 3:Asymptomatic pain    </td></tr>\n",
       "<tr><td style=\"text-align: center;\">                  trestbps                   </td><td style=\"text-align: center;\">       resting blood pressure        </td><td style=\"text-align: center;\">     Numeric Value     </td><td style=\"text-align: center;\">                                                                                             </td></tr>\n",
       "<tr><td style=\"text-align: center;\">                    chol                     </td><td style=\"text-align: center;\">     serum cholestoral in mg/dl      </td><td style=\"text-align: center;\">     Numeric Value     </td><td style=\"text-align: center;\">                                                                                             </td></tr>\n",
       "<tr><td style=\"text-align: center;\">                     fbs                     </td><td style=\"text-align: center;\">   fasting blood sugar &gt; 120 mg/dl   </td><td style=\"text-align: center;\">Categorical Value (0/1)</td><td style=\"text-align: center;\">                                0 = fbs &lt; 120, 1 = fbs &gt; 120                                 </td></tr>\n",
       "<tr><td style=\"text-align: center;\">                   restecg                   </td><td style=\"text-align: center;\">resting electrocardiographic results </td><td style=\"text-align: center;\">         0-1-2         </td><td style=\"text-align: center;\">0: Normal value 1: ST-T wave abnormality 2: probable or definite left ventricular hypertrophy</td></tr>\n",
       "<tr><td style=\"text-align: center;\">                   thalac                    </td><td style=\"text-align: center;\">     maximum heart rate achieved     </td><td style=\"text-align: center;\">        Numeric        </td><td style=\"text-align: center;\">                                        Numeric Value                                        </td></tr>\n",
       "<tr><td style=\"text-align: center;\">                    exang                    </td><td style=\"text-align: center;\">       exercise induced angina       </td><td style=\"text-align: center;\">         0, 1          </td><td style=\"text-align: center;\">                                       0: None ,1: Yes                                       </td></tr>\n",
       "<tr><td style=\"text-align: center;\">                   oldpeak                   </td><td style=\"text-align: center;\">   Exercise-induced ST depression    </td><td style=\"text-align: center;\">     Numeric Value     </td><td style=\"text-align: center;\">                                                                                             </td></tr>\n",
       "<tr><td style=\"text-align: center;\">                    slope                    </td><td style=\"text-align: center;\">slope of the peak exercise ST segment</td><td style=\"text-align: center;\">         0,1,2         </td><td style=\"text-align: center;\">                             0: Upwards 1: Straight 2: Downward                              </td></tr>\n",
       "<tr><td style=\"text-align: center;\">number of major vessels colored by flourosopy</td><td style=\"text-align: center;\">                 0-3                 </td><td style=\"text-align: center;\">     Numeric Value     </td><td style=\"text-align: center;\">                                                                                             </td></tr>\n",
       "<tr><td style=\"text-align: center;\">                    thal                     </td><td style=\"text-align: center;\">             Defect type             </td><td style=\"text-align: center;\">         1,2,3         </td><td style=\"text-align: center;\">                      1= Normal, 2= Fixed Defect, 3 = Reversible Defect                      </td></tr>\n",
       "</tbody>\n",
       "</table>"
      ],
      "text/plain": [
       "<IPython.core.display.HTML object>"
      ]
     },
     "metadata": {},
     "output_type": "display_data"
    }
   ],
   "source": [
    "#Show Dataset table and their description\n",
    "from IPython.display import display, HTML\n",
    "from tabulate import tabulate\n",
    "\n",
    "# Define your data\n",
    "data = [\n",
    "    [\"age\", \"Patient's age\", \"Numeric Value\", \" \"],\n",
    "    [\"sex\", \"Patient's gender\", \"Categorical Value (0/1)\", \"0 = Man, 1 = Woman\"],\n",
    "    [\"cp\", \"Chest pain type\", \"0,1,2,3\", \"0: Typical angina pain 1: Atypical angina pain 2: Non-anginal pain 3:Asymptomatic pain\"],\n",
    "    [\"trestbps\",\"resting blood pressure\", \"Numeric Value\", \" \"],\n",
    "    [\"chol \",\"serum cholestoral in mg/dl\",  \"Numeric Value\", \" \"],\n",
    "    [\"fbs\",\"fasting blood sugar > 120 mg/dl\",\"Categorical Value (0/1)\", \"0 = fbs < 120, 1 = fbs > 120 \"],\n",
    "    [\"restecg\" ,\"resting electrocardiographic results\", \"0-1-2\",\"0: Normal value 1: ST-T wave abnormality 2: probable or definite left ventricular hypertrophy\"],\n",
    "    [\"thalac\",\"maximum heart rate achieved\", \"Numeric\", \"Numeric Value\", \" \"],\n",
    "    [\"exang \",\"exercise induced angina\", \"0, 1\", \" 0: None ,1: Yes\"],\n",
    "    [\"oldpeak\", \"Exercise-induced ST depression\", \"Numeric Value\", \" \"],\n",
    "    [\"slope\",\"slope of the peak exercise ST segment\", \"0,1,2\",\"0: Upwards 1: Straight 2: Downward\"],\n",
    "    [\"number of major vessels colored by flourosopy\", \"0-3\", \"Numeric Value\", \" \"],\n",
    "    [\"thal\", \"Defect type\",\"1,2,3\",\"1= Normal, 2= Fixed Defect, 3 = Reversible Defect\"],\n",
    "]\n",
    "\n",
    "# Create HTML table with horizontal lines between rows\n",
    "html_table = tabulate(data, headers=[\"Feature\", \"Explanation of Feature\", \"Value\", \"Explanation of Value\"], tablefmt=\"html\", numalign=\"center\", stralign=\"center\")\n",
    "\n",
    "# Display HTML table\n",
    "display(HTML(html_table))\n"
   ]
  }
 ],
 "metadata": {
  "kernelspec": {
   "display_name": "base",
   "language": "python",
   "name": "python3"
  },
  "language_info": {
   "codemirror_mode": {
    "name": "ipython",
    "version": 3
   },
   "file_extension": ".py",
   "mimetype": "text/x-python",
   "name": "python",
   "nbconvert_exporter": "python",
   "pygments_lexer": "ipython3",
   "version": "3.11.5"
  }
 },
 "nbformat": 4,
 "nbformat_minor": 2
}
